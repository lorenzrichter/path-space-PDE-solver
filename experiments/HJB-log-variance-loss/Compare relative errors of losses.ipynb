{
 "cells": [
  {
   "cell_type": "code",
   "execution_count": 1,
   "metadata": {},
   "outputs": [],
   "source": [
    "%matplotlib inline\n",
    "\n",
    "import copy\n",
    "from datetime import date\n",
    "import numpy as np\n",
    "import matplotlib.cm as cm\n",
    "import matplotlib.pyplot as plt\n",
    "import random\n",
    "import sys\n",
    "import time\n",
    "import torch as pt\n",
    "\n",
    "sys.path.insert(0, '..')\n",
    "\n",
    "from numpy import exp, log\n",
    "from scipy.linalg import expm, inv, solve_banded\n",
    "\n",
    "from utilities import plot_control_for_DoubleWell1d, plot_loss_logs\n",
    "#from problems import DoubleWell\n",
    "from solver import Solver\n",
    "from function_space import MySequential, DenseNet\n",
    "\n",
    "%load_ext autoreload\n",
    "%autoreload 2\n",
    "\n",
    "device = pt.device('cpu')"
   ]
  },
  {
   "cell_type": "code",
   "execution_count": 2,
   "metadata": {},
   "outputs": [],
   "source": [
    "class LLGC():\n",
    "    def __init__(self, name='LLGC', d=1, off_diag=0, T=5, seed=42):\n",
    "\n",
    "        pt.manual_seed(seed)\n",
    "        self.name = name\n",
    "        self.d = d\n",
    "        self.T = T\n",
    "        self.A = (-pt.eye(self.d) + off_diag * pt.randn(self.d, self.d)).to(device)\n",
    "        self.B = (pt.eye(self.d) + off_diag * pt.randn(self.d, self.d)).to(device)\n",
    "        self.alpha = pt.ones(self.d, 1).to(device)\n",
    "        self.X_0 = pt.zeros(self.d).to(device)\n",
    "\n",
    "        if ~np.all(np.linalg.eigvals(self.A.cpu().numpy()) < 0):\n",
    "            print('not all EV of A are negative')\n",
    "\n",
    "    def b(self, x):\n",
    "        return pt.mm(self.A, x.t()).t()\n",
    "\n",
    "    def sigma(self, x):\n",
    "        return self.B\n",
    "\n",
    "    def h(self, t, x, y, z):\n",
    "        return 0.5 * pt.sum(z**2, dim=1)\n",
    "\n",
    "    def g(self, x):\n",
    "        return pt.mm(x, self.alpha)[:, 0]\n",
    "\n",
    "    def u_true(self, x, t):\n",
    "        return -self.sigma(x).cpu().numpy().T.dot(expm(self.A.cpu().numpy().T * (self.T - t)).dot(\n",
    "            self.alpha.cpu().numpy()) * np.ones(x.shape).T)\n",
    "\n",
    "    def v_true(self, x, t):\n",
    "        delta_t = 0.001\n",
    "        N = int(np.floor((self.T - t) / delta_t)) + 1\n",
    "        Sigma_n = np.zeros([self.d, self.d])\n",
    "        for t_n in np.linspace(t, self.T, N):\n",
    "            Sigma_n += (expm(self.A.cpu().numpy() * t_n)\n",
    "                        .dot(self.sigma(np.zeros([self.d, self.d])).cpu())\n",
    "                        .dot(self.sigma(np.zeros([self.d, self.d])).t().cpu())\n",
    "                        .dot(expm(self.A.cpu().numpy().T * t_n))) * delta_t\n",
    "        return ((expm(self.A.cpu().numpy() * (self.T - t)).dot(x.t()).T).dot(self.alpha.cpu().numpy())\n",
    "                - 0.5 * self.alpha.cpu().numpy().T.dot(Sigma_n.dot(self.alpha.cpu())))"
   ]
  },
  {
   "cell_type": "code",
   "execution_count": null,
   "metadata": {},
   "outputs": [
    {
     "name": "stdout",
     "output_type": "stream",
     "text": [
      "1\n",
      "3.055058873534641\n",
      "3\n",
      "14.755972677838194\n",
      "5\n",
      "13.547010983982759\n",
      "7\n"
     ]
    }
   ],
   "source": [
    "var_CE = []\n",
    "var_CE_detach = []\n",
    "var_CE_detach_selection = []\n",
    "var_g = []\n",
    "var_var = []\n",
    "mean_CE = []\n",
    "mean_CE_detach = []\n",
    "mean_CE_detach_selection = []\n",
    "mean_g = []\n",
    "mean_var = []\n",
    "\n",
    "detach_forward = False\n",
    "adaptive_forward_process = False\n",
    "\n",
    "L = 1\n",
    "\n",
    "with pt.no_grad():\n",
    "\n",
    "    for d in range(1, 16, 2): #range(10, 41, 10)\n",
    "        print(d)\n",
    "\n",
    "        T = 1\n",
    "\n",
    "        llgc = LLGC(d=d, off_diag=0.1, T=T, seed=random.randint(0, 99999))\n",
    "\n",
    "        problem = llgc\n",
    "\n",
    "        X_0 = problem.X_0\n",
    "        delta_t_np = 0.005\n",
    "        lr = 0.05\n",
    "        L = 300\n",
    "        K = 5 * 10**7\n",
    "        loss_method = 'variance'\n",
    "        print_every = 1\n",
    "\n",
    "        delta_t = pt.tensor(delta_t_np).to(device) # step size\n",
    "        sq_delta_t = pt.sqrt(delta_t).to(device)\n",
    "        N = int(np.floor(T / delta_t_np)) # number of steps \n",
    "\n",
    "        Phis = []\n",
    "\n",
    "        #z_n = MySequential(d_in=d + 1, d_out=d, lr=lr).to(device)\n",
    "        z_n = DenseNet(d_in=d + 1, d_out=d, lr=lr).to(device)\n",
    "        Phis = [z_n]\n",
    "\n",
    "        for phi in Phis:\n",
    "            phi.train()\n",
    "\n",
    "        loss_log = []\n",
    "        u_L2_loss = []\n",
    "        times = []\n",
    "\n",
    "        def b(x):\n",
    "            return problem.b(x)\n",
    "\n",
    "        def sigma(x):\n",
    "            return problem.sigma(x)\n",
    "\n",
    "        def h(t, x, y, z):\n",
    "            return problem.h(t, x, y, z)\n",
    "\n",
    "        def g(x):\n",
    "            return problem.g(x)\n",
    "\n",
    "        def u_true(x, t):\n",
    "            return problem.u_true(x, t)\n",
    "\n",
    "        def v_true(x, t):\n",
    "            return problem.v_true(x, t)\n",
    "\n",
    "        def loss_function(X, Y, Z_sum):\n",
    "            if loss_method == 'moment':\n",
    "                return (Y - g(X)).pow(2).mean()\n",
    "            elif loss_method == 'variance':\n",
    "                return (Y - g(X)).pow(2).mean() - (Y - g(X)).mean().pow(2)\n",
    "            elif loss_method == 'relative_entropy':\n",
    "                return (Z_sum + g(X)).mean()\n",
    "            elif loss_method == 'cross_entropy':\n",
    "                return (Y * pt.exp(-g(X) + Y.detach())).mean()\n",
    "\n",
    "        def initialize_training_data():\n",
    "            X = X_0.repeat(K, 1).to(device)\n",
    "            Y = pt.zeros(K).to(device)\n",
    "\n",
    "            Z_sum = pt.zeros(K).to(device)\n",
    "            u_L2 = pt.zeros(K).to(device)\n",
    "\n",
    "            return X, Y, Z_sum, u_L2 \n",
    "\n",
    "        def zero_grad():\n",
    "            for phi in Phis:\n",
    "                phi.adam.zero_grad()\n",
    "\n",
    "        def gradient_descent():\n",
    "            for phi in Phis:\n",
    "                phi.adam.step()\n",
    "\n",
    "        def Z_n_(X, n):\n",
    "            t_X = pt.cat([pt.ones([X.shape[0], 1]).to(device) * n * delta_t, X], 1)\n",
    "            return z_n(t_X)\n",
    "\n",
    "        def Z_n(X, t):\n",
    "            n = int(np.ceil(t / delta_t))\n",
    "            return Z_n_(X, n)\n",
    "\n",
    "        X, Y0, Z_sum, u_L2 = initialize_training_data()\n",
    "        Y = Y0\n",
    "\n",
    "        for n in range(N):\n",
    "            xi = pt.randn(K, d).to(device)\n",
    "\n",
    "            Z = Z_n_(X, n)\n",
    "            c = pt.zeros(d, 1).to(device)\n",
    "            if adaptive_forward_process is True:\n",
    "                c = -Z.t()\n",
    "            if detach_forward is True:\n",
    "                c = c.detach()\n",
    "            X = (X + (b(X) + pt.mm(sigma(X), c).t()) * delta_t\n",
    "                 + pt.mm(sigma(X), xi.t()).t() * sq_delta_t)\n",
    "            Y = (Y + (h(delta_t * n, X, Y, Z) + pt.sum(Z * c.t(), 1)) * delta_t\n",
    "                 + pt.sum(Z * xi, 1) * sq_delta_t)\n",
    "\n",
    "        var_g.append((pt.exp(-g(X))).var().item())\n",
    "        mean_g.append((pt.exp(-g(X))).mean().item())\n",
    "        \n",
    "        var_CE.append((Y * pt.exp(-g(X))).var().item())\n",
    "        mean_CE.append((Y * pt.exp(-g(X))).mean().item())\n",
    "        var_CE_detach.append((Y * pt.exp(-g(X) + Y.detach())).var().item())\n",
    "        mean_CE_detach.append((Y * pt.exp(-g(X) + Y.detach())).mean().item())\n",
    "        \n",
    "        val = (Y * pt.exp(-g(X) + Y.detach()))\n",
    "        val = val[pt.abs(val) < 100]\n",
    "        var_CE_detach_selection.append(pt.sqrt(pt.var(val)).item())\n",
    "        mean_CE_detach_selection.append(pt.abs(pt.mean(val)).item())\n",
    "        \n",
    "        var_var.append(((Y - g(X) - (Y - g(X)).mean()).pow(4).mean() - (Y - g(X)).var().pow(2)).item())\n",
    "        mean_var.append(pt.var(Y - g(X)).mean().item())\n",
    "        \n",
    "        print(np.sqrt(np.array(var_CE[-1])) / np.abs(np.array(mean_CE[-1])))"
   ]
  },
  {
   "cell_type": "code",
   "execution_count": 59,
   "metadata": {},
   "outputs": [
    {
     "data": {
      "image/png": "[encoded data removed]",
      "text/plain": [
       "<Figure size 288x252 with 1 Axes>"
      ]
     },
     "metadata": {
      "needs_background": "light"
     },
     "output_type": "display_data"
    }
   ],
   "source": [
    "fig, ax = plt.subplots(1, 1, figsize=(4, 3.5))\n",
    "d_range = np.arange(1, 16, 2)\n",
    "ax.plot(d_range, np.sqrt(np.array(var_CE)) / np.abs(np.array(mean_CE)), '.', ls='-', markevery=1, label='cross-entropy')\n",
    "ax.plot(d_range, np.sqrt(np.array(var_var)) / np.array(mean_var), '.', ls='-', markevery=1, label='log-variance')\n",
    "ax.plot(d_range, 1.45 * np.ones(8), '--', color='grey', label=r'$\\propto c$')\n",
    "ax.plot(d_range, 2.4 * 1.30**d_range , color='grey', label=r'$\\propto c^{d}$')\n",
    "ax.set_xticks(d_range)\n",
    "ax.legend()\n",
    "ax.set_yscale('log')\n",
    "ax.set_xlabel(r'$d$')\n",
    "ax.set_title('Relative error of the losses');\n",
    "fig.tight_layout()\n",
    "#fig.savefig('img/rel_error_dimension_4.pdf')"
   ]
  },
  {
   "cell_type": "code",
   "execution_count": 60,
   "metadata": {},
   "outputs": [
    {
     "data": {
      "text/plain": [
       "array([  3.05505887,  14.75597268,  13.54701098,  14.75985107,\n",
       "        24.52242451,  42.00820742,  85.52074092, 115.31012523])"
      ]
     },
     "execution_count": 60,
     "metadata": {},
     "output_type": "execute_result"
    }
   ],
   "source": [
    "np.sqrt(np.array(var_CE)) / np.abs(np.array(mean_CE))"
   ]
  },
  {
   "cell_type": "code",
   "execution_count": 61,
   "metadata": {},
   "outputs": [
    {
     "data": {
      "text/plain": [
       "array([1.39002746, 1.4561878 , 1.4557624 , 1.4640088 , 1.442332  ,\n",
       "       1.45106495, 1.42646312, 1.45825795])"
      ]
     },
     "execution_count": 61,
     "metadata": {},
     "output_type": "execute_result"
    }
   ],
   "source": [
    "np.sqrt(np.array(var_var)) / np.array(mean_var)"
   ]
  },
  {
   "cell_type": "markdown",
   "metadata": {},
   "source": [
    "## Another run"
   ]
  },
  {
   "cell_type": "code",
   "execution_count": 23,
   "metadata": {},
   "outputs": [
    {
     "data": {
      "text/plain": [
       "array([  6.72783328,   5.15783922,  49.78432854, 113.53854956,\n",
       "        27.21789754, 225.23979772, 605.50830375])"
      ]
     },
     "execution_count": 23,
     "metadata": {},
     "output_type": "execute_result"
    }
   ],
   "source": [
    "np.sqrt(np.array(var_CE)) / np.abs(np.array(mean_CE))"
   ]
  },
  {
   "cell_type": "code",
   "execution_count": 24,
   "metadata": {},
   "outputs": [
    {
     "data": {
      "text/plain": [
       "array([1.55225075, 1.42513461, 1.50300627, 1.4374404 , 1.43226808,\n",
       "       1.44646332, 1.45077835])"
      ]
     },
     "execution_count": 24,
     "metadata": {},
     "output_type": "execute_result"
    }
   ],
   "source": [
    "np.sqrt(np.array(var_var)) / np.array(mean_var)"
   ]
  },
  {
   "cell_type": "code",
   "execution_count": 26,
   "metadata": {},
   "outputs": [
    {
     "data": {
      "image/png": "[encoded data removed]",
      "text/plain": [
       "<Figure size 288x252 with 1 Axes>"
      ]
     },
     "metadata": {},
     "output_type": "display_data"
    }
   ],
   "source": [
    "fig, ax = plt.subplots(1, 1, figsize=(4, 3.5))\n",
    "d_range = np.arange(2, 15, 2)\n",
    "ax.plot(d_range, 1.45 * np.ones(7), '--', color='grey', label=r'$\\propto c$')\n",
    "ax.plot(d_range, 2 * 1.5**d_range , color='grey', label=r'$\\propto c^{d}$')\n",
    "ax.plot(d_range, np.sqrt(np.array(var_CE)) / np.abs(np.array(mean_CE)), label='cross-entropy')\n",
    "#ax.plot(d_range, np.sqrt(np.array(var_CE_detach)) / np.abs(np.array(mean_CE_detach)), label='cross entropy detach')\n",
    "#ax.plot(d_range, np.sqrt(np.array(var_CE_detach_selection)) / np.abs(np.array(mean_CE_detach_selection)), label='cross entropy detach selection')\n",
    "ax.plot(d_range, np.sqrt(np.array(var_var)) / np.array(mean_var), label='log-variance')\n",
    "ax.legend()\n",
    "ax.set_yscale('log')\n",
    "ax.set_xlabel('d')\n",
    "ax.set_ylabel('relative error')\n",
    "ax.set_title('Relative error of the losses');\n",
    "fig.tight_layout()\n",
    "#fig.savefig('img/rel_error_dimension_2.pdf')"
   ]
  },
  {
   "cell_type": "markdown",
   "metadata": {},
   "source": [
    "## Variances"
   ]
  },
  {
   "cell_type": "code",
   "execution_count": 152,
   "metadata": {},
   "outputs": [
    {
     "data": {
      "image/png": "[encoded data removed]",
      "text/plain": [
       "<Figure size 360x216 with 1 Axes>"
      ]
     },
     "metadata": {},
     "output_type": "display_data"
    }
   ],
   "source": [
    "fig, ax = plt.subplots(1, 1, figsize=(5, 3))\n",
    "d_range = np.arange(1, 15)\n",
    "ax.plot(d_range, d_range**2 / 3, '--', color='grey', label=r'$\\propto d^2$')\n",
    "ax.plot(d_range, np.exp(2 * d_range) / 2000000, color='grey', label=r'$\\propto e^{2d}$')\n",
    "ax.plot(d_range, var_CE, label='cross entropy')\n",
    "ax.plot(d_range, var_var, label='variance')\n",
    "ax.legend()\n",
    "ax.set_yscale('log')\n",
    "ax.set_xlabel('d')\n",
    "ax.set_ylabel('variance')\n",
    "ax.set_title('Variances of the losses');\n",
    "fig.tight_layout()\n",
    "#fig.savefig('img/variances_losses_dimension.pdf')"
   ]
  },
  {
   "cell_type": "code",
   "execution_count": null,
   "metadata": {},
   "outputs": [],
   "source": []
  }
 ],
 "metadata": {
  "kernelspec": {
   "display_name": "Python 3",
   "language": "python",
   "name": "python3"
  },
  "language_info": {
   "codemirror_mode": {
    "name": "ipython",
    "version": 3
   },
   "file_extension": ".py",
   "mimetype": "text/x-python",
   "name": "python",
   "nbconvert_exporter": "python",
   "pygments_lexer": "ipython3",
   "version": "3.7.4"
  }
 },
 "nbformat": 4,
 "nbformat_minor": 2
}
